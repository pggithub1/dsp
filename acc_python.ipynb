{
 "cells": [
  {
   "cell_type": "code",
   "execution_count": 12,
   "metadata": {},
   "outputs": [
    {
     "name": "stdout",
     "output_type": "stream",
     "text": [
      "\n",
      " \t Initial Training\n",
      "SVM linear Train Accuracy ::  0.955823293173\n",
      "SVM linear Test Accuracy ::  0.962962962963\n",
      "rbf SVM Train Accuracy ::  0.955823293173\n",
      "rbf SVM Test Accuracy ::  0.953703703704\n",
      "poly SVM Train Accuracy ::  0.955823293173\n",
      "poly SVM Test Accuracy ::  0.962962962963\n",
      "\n",
      " \t Initial Testing\n",
      "SVM linear Test Accuracy ::  0.860215053763\n",
      "rbf SVM Test Accuracy ::  0.89247311828\n",
      "poly SVM Test Accuracy ::  0.838709677419\n",
      "\n",
      " \t Final Training and Testing\n",
      "SVM linear Train Accuracy ::  0.95873015873\n",
      "SVM linear Test Accuracy ::  0.918518518519\n",
      "rbf SVM Train Accuracy ::  0.961904761905\n",
      "rbf SVM Test Accuracy ::  0.918518518519\n",
      "poly SVM Train Accuracy ::  0.961904761905\n",
      "poly SVM Test Accuracy ::  0.925925925926\n"
     ]
    }
   ],
   "source": [
    "import csv\n",
    "import pandas as pd\n",
    "import sklearn\n",
    "from sklearn import linear_model\n",
    "from sklearn import svm\n",
    "from sklearn import metrics\n",
    "from sklearn.cross_validation import train_test_split\n",
    "import numpy as np\n",
    "data = pd.read_csv('file22.csv',encoding='iso-8859-1')\n",
    "data1 = pd.read_csv('file11.csv',encoding='iso-8859-1')\n",
    "data2 = pd.read_csv('file33.csv',encoding='iso-8859-1')\n",
    "\n",
    "print(\"\\n \\t Initial Training\")\n",
    "data1['label']=np.resize(['sitting']*119,(119,1))\n",
    "data['label']=np.resize(['stairs']*119,(119,1))\n",
    "data2['label']=np.resize(['walking']*119,(119,1))\n",
    "d=[data, data1, data2]\n",
    "p=pd.concat(d)\n",
    "headers=list(p)\n",
    "train_x, test_x, train_y, test_y = train_test_split(p[headers[:-1]],p[headers[-1]], train_size=0.7)\n",
    "lr = linear_model.LogisticRegression()\n",
    "lr.fit(train_x, train_y)\n",
    "mul_lr = linear_model.LogisticRegression(multi_class='multinomial', solver='newton-cg').fit(train_x, train_y)\n",
    "svc = svm.SVC(kernel='linear').fit(train_x, train_y)\n",
    "rbf_svc = svm.SVC(kernel='rbf', gamma=0.7).fit(train_x, train_y)\n",
    "poly_svc = svm.SVC(kernel='poly', degree=3).fit(train_x, train_y)\n",
    "print(\"SVM linear Train Accuracy :: \", metrics.accuracy_score(train_y, svc.predict(train_x)))\n",
    "print(\"SVM linear Test Accuracy :: \", metrics.accuracy_score(test_y, svc.predict(test_x)))\n",
    "print(\"rbf SVM Train Accuracy :: \", metrics.accuracy_score(train_y, rbf_svc.predict(train_x)))\n",
    "print(\"rbf SVM Test Accuracy :: \", metrics.accuracy_score(test_y, rbf_svc.predict(test_x)))\n",
    "print(\"poly SVM Train Accuracy :: \", metrics.accuracy_score(train_y, poly_svc.predict(train_x)))\n",
    "print(\"poly SVM Test Accuracy :: \", metrics.accuracy_score(test_y, poly_svc.predict(test_x))) \n",
    "\n",
    "\n",
    "print(\"\\n \\t Initial Testing\")\n",
    "data4 = pd.read_csv('file55.csv',encoding='iso-8859-1')\n",
    "data3 = pd.read_csv('file44.csv',encoding='iso-8859-1')\n",
    "data5 = pd.read_csv('file66.csv',encoding='iso-8859-1')\n",
    "data3['label']=np.resize(['sitting']*31,(31,1))\n",
    "data4['label']=np.resize(['stairs']*31,(31,1))\n",
    "data5['label']=np.resize(['walking']*31,(31,1))\n",
    "d=[data3, data4, data5]\n",
    "q=pd.concat(d)\n",
    "print(\"SVM linear Test Accuracy :: \", metrics.accuracy_score(q[headers[-1]], svc.predict(q[headers[:-1]])))\n",
    "print(\"rbf SVM Test Accuracy :: \", metrics.accuracy_score(q[headers[-1]], rbf_svc.predict(q[headers[:-1]])))\n",
    "print(\"poly SVM Test Accuracy :: \", metrics.accuracy_score(q[headers[-1]], poly_svc.predict(q[headers[:-1]])))\n",
    "\n",
    "\n",
    "print(\"\\n \\t Final Training and Testing\")\n",
    "d=[p,q]\n",
    "r=pd.concat(d)\n",
    "train_x, test_x, train_y, test_y = train_test_split(r[headers[:-1]],r[headers[-1]], train_size=0.7)\n",
    "lr1 = linear_model.LogisticRegression()\n",
    "lr1.fit(train_x, train_y)\n",
    "mul_lr1 = linear_model.LogisticRegression(multi_class='multinomial', solver='newton-cg').fit(train_x, train_y)\n",
    "svc1 = svm.SVC(kernel='linear').fit(train_x, train_y)\n",
    "rbf_svc1 = svm.SVC(kernel='rbf', gamma=0.7).fit(train_x, train_y)\n",
    "poly_svc1 = svm.SVC(kernel='poly', degree=3).fit(train_x, train_y)\n",
    "print(\"SVM linear Train Accuracy :: \", metrics.accuracy_score(train_y, svc1.predict(train_x)))\n",
    "print(\"SVM linear Test Accuracy :: \", metrics.accuracy_score(test_y, svc1.predict(test_x)))\n",
    "print(\"rbf SVM Train Accuracy :: \", metrics.accuracy_score(train_y, rbf_svc1.predict(train_x)))\n",
    "print(\"rbf SVM Test Accuracy :: \", metrics.accuracy_score(test_y, rbf_svc1.predict(test_x)))\n",
    "print(\"poly SVM Train Accuracy :: \", metrics.accuracy_score(train_y, poly_svc1.predict(train_x)))\n",
    "print(\"poly SVM Test Accuracy :: \", metrics.accuracy_score(test_y, poly_svc1.predict(test_x)))"
   ]
  },
  {
   "cell_type": "code",
   "execution_count": null,
   "metadata": {
    "collapsed": true
   },
   "outputs": [],
   "source": []
  },
  {
   "cell_type": "code",
   "execution_count": null,
   "metadata": {
    "collapsed": true
   },
   "outputs": [],
   "source": []
  }
 ],
 "metadata": {
  "kernelspec": {
   "display_name": "Python 3",
   "language": "python",
   "name": "python3"
  },
  "language_info": {
   "codemirror_mode": {
    "name": "ipython",
    "version": 3
   },
   "file_extension": ".py",
   "mimetype": "text/x-python",
   "name": "python",
   "nbconvert_exporter": "python",
   "pygments_lexer": "ipython3",
   "version": "3.6.3"
  }
 },
 "nbformat": 4,
 "nbformat_minor": 2
}
